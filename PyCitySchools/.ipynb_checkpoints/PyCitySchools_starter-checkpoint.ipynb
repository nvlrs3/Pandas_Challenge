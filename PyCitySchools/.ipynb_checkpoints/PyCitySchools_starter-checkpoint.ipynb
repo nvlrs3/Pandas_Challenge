{
 "cells": [
  {
   "cell_type": "markdown",
   "metadata": {},
   "source": [
    "### Note\n",
    "* Instructions have been included for each segment. You do not have to follow them exactly, but they are included to help you think through the steps."
   ]
  },
  {
   "cell_type": "code",
   "execution_count": null,
   "metadata": {},
   "outputs": [],
   "source": [
    "# Dependencies and Setup\n",
    "import pandas as pd\n",
    "\n",
    "# File to Load (Remember to Change These)\n",
    "school_data_to_load = \"Resources/schools_complete.csv\"\n",
    "student_data_to_load = \"Resources/students_complete.csv\"\n",
    "\n",
    "# Read School and Student Data File and store into Pandas DataFrames\n",
    "school_data = pd.read_csv(school_data_to_load)\n",
    "student_data = pd.read_csv(student_data_to_load)\n",
    "\n",
    "# Combine the data into a single dataset.  \n",
    "school_data_complete = pd.merge(student_data, school_data, how=\"left\", on=[\"school_name\", \"school_name\"])\n",
    "school_data_complete.head()"
   ]
  },
  {
   "cell_type": "markdown",
   "metadata": {},
   "source": [
    "## District Summary\n",
    "\n",
    "* Calculate the total number of schools\n",
    "\n",
    "* Calculate the total number of students\n",
    "\n",
    "* Calculate the total budget\n",
    "\n",
    "* Calculate the average math score \n",
    "\n",
    "* Calculate the average reading score\n",
    "\n",
    "* Calculate the percentage of students with a passing math score (70 or greater)\n",
    "\n",
    "* Calculate the percentage of students with a passing reading score (70 or greater)\n",
    "\n",
    "* Calculate the percentage of students who passed math **and** reading (% Overall Passing)\n",
    "\n",
    "* Create a dataframe to hold the above results\n",
    "\n",
    "* Optional: give the displayed data cleaner formatting"
   ]
  },
  {
   "cell_type": "code",
   "execution_count": null,
   "metadata": {},
   "outputs": [],
   "source": [
    "# Calculations required for percentage values\n",
    "math_passing = school_data_complete[\"math_score\"] >= 70\n",
    "school_data_complete[\"math_passing\"] = math_passing\n",
    "\n",
    "reading_passing = school_data_complete[\"reading_score\"] >= 70    \n",
    "school_data_complete[\"reading_passing\"] = reading_passing\n",
    "\n",
    "school_data_complete[\"overall_passing\"] = [True if (x == True) and (y == True) else False \n",
    "                                             for x in school_data_complete[\"math_passing\"]\n",
    "                                             for y in school_data_complete[\"reading_passing\"]]\n",
    "\n",
    "# Output the dataframe\n",
    "district_summary_df = pd.DataFrame({\n",
    "    \"No. of Schools\" : [len(school_data)],\n",
    "    \"No. of Students\" : len(student_data),\n",
    "    \"Total Budget\" : sum(school_data[\"budget\"]),\n",
    "    \"Average Math Score\" : school_data_complete[\"math_score\"].mean(),\n",
    "    \"Average Reading Score\" : school_data_complete[\"reading_score\"].mean(),\n",
    "    \"% Passing Math\" : sum(math_passing)/len(student_data) * 100,\n",
    "    \"% Passing Reading\" : sum(reading_passing)/len(student_data) * 100,\n",
    "    \"% Overall Passing\" : sum(overall_passing)/len(student_data) * 100\n",
    "    })\n",
    "\n",
    "# Format\n",
    "district_summary_df[\"No. of Students\"] = district_summary_df[\"No. of Students\"].astype(float).map(\"{:,.0f}\".format)\n",
    "district_summary_df[\"Total Budget\"] = district_summary_df[\"Total Budget\"].map(\"${:,.2f}\".format)\n",
    "\n",
    "district_summary_df"
   ]
  },
  {
   "cell_type": "markdown",
   "metadata": {},
   "source": [
    "## School Summary"
   ]
  },
  {
   "cell_type": "markdown",
   "metadata": {},
   "source": [
    "* Create an overview table that summarizes key metrics about each school, including:\n",
    "  * School Name\n",
    "  * School Type\n",
    "  * Total Students\n",
    "  * Total School Budget\n",
    "  * Per Student Budget\n",
    "  * Average Math Score\n",
    "  * Average Reading Score\n",
    "  * % Passing Math\n",
    "  * % Passing Reading\n",
    "  * % Overall Passing (The percentage of students that passed math **and** reading.)\n",
    "  \n",
    "* Create a dataframe to hold the above results"
   ]
  },
  {
   "cell_type": "code",
   "execution_count": null,
   "metadata": {
    "scrolled": true
   },
   "outputs": [],
   "source": [
    "# Group by's and other calculations required\n",
    "grouped_school_data_averages = school_data_complete.groupby([\"school_name\"]).mean()\n",
    "\n",
    "math_passing = school_data_complete[\"math_score\"] >= 70\n",
    "school_data_complete[\"math_passing\"] = math_passing\n",
    "\n",
    "reading_passing = school_data_complete[\"reading_score\"] >= 70\n",
    "school_data_complete[\"reading_passing\"] = reading_passing\n",
    "\n",
    "school_data_complete[\"overall_passing\"] = [True if (x == True) and (y == True) else False \n",
    "                                           for x in school_data_complete[\"math_passing\"]\n",
    "                                           for y in school_data_complete[\"reading_passing\"]]\n",
    "\n",
    "grouped_school_data_sum = school_data_complete.groupby([\"school_name\"]).sum()\n",
    " \n",
    "# Output the initial dataframe\n",
    "school_summary_df = pd.DataFrame({\n",
    "    \"School Name\" : [school_data[\"school_name\"]],\n",
    "    \"School Type\" : school_data[\"type\"],\n",
    "    \"Total Students\" : school_data[\"size\"],\n",
    "    \"Total School Budget\" : school_data[\"budget\"],\n",
    "    \"Per Student Budget\" : school_data[\"budget\"] / school_data[\"size\"]\n",
    "    })\n",
    "\n",
    "# Set index to school name\n",
    "school_summary_df = school_summary_df.set_index(\"School Name\")\n",
    "\n",
    "# Add columns to dataframe that require the index to be school name\n",
    "school_summary_df[\"Average Math Score\"] = grouped_school_data_averages[\"math_score\"]\n",
    "school_summary_df[\"Average Reading Score\"] = grouped_school_data_averages[\"reading_score\"]\n",
    "school_summary_df[\"% Passing Math\"] = grouped_school_data_sum[\"math_passing\"]/school_summary_df[\"Total Students\"] * 100\n",
    "school_summary_df[\"% Passing Reading\"] = grouped_school_data_sum[\"reading_passing\"]/school_summary_df[\"Total Students\"] * 100\n",
    "school_summary_df[\"% Overall Passing\"] = grouped_school_data_sum[\"overall_passing\"]/school_summary_df[\"Total Students\"] * 100\n",
    "\n",
    "# Format\n",
    "school_summary_df[\"Total School Budget\"] = district_summary_df[\"Total Budget\"].astype(float).map(\"${:,.2f}\".format)\n",
    "school_summary_df[\"Per Student Budget\"] = district_summary_df[\"Per Student Budget\"].astype(float).map(\"${:,.2f}\".format)\n",
    "\n",
    "school_summary_df"
   ]
  },
  {
   "cell_type": "markdown",
   "metadata": {},
   "source": [
    "## Top Performing Schools (By % Overall Passing)"
   ]
  },
  {
   "cell_type": "markdown",
   "metadata": {},
   "source": [
    "* Sort and display the top five performing schools by % overall passing."
   ]
  },
  {
   "cell_type": "code",
   "execution_count": null,
   "metadata": {
    "scrolled": true
   },
   "outputs": [],
   "source": [
    "Top_Performing = school_summary_df.sort_values(\"% Overall Passing\", ascending=False)\n",
    "Top_Performing.head(5)"
   ]
  },
  {
   "cell_type": "markdown",
   "metadata": {},
   "source": [
    "## Bottom Performing Schools (By % Overall Passing)"
   ]
  },
  {
   "cell_type": "markdown",
   "metadata": {},
   "source": [
    "* Sort and display the five worst-performing schools by % overall passing."
   ]
  },
  {
   "cell_type": "code",
   "execution_count": null,
   "metadata": {},
   "outputs": [],
   "source": [
    "Bottom_Performing = school_summary_df.sort_values(\"% Overall Passing\", ascending=True)\n",
    "Bottom_Performing.head(5)"
   ]
  },
  {
   "cell_type": "markdown",
   "metadata": {
    "collapsed": true
   },
   "source": [
    "## Math Scores by Grade"
   ]
  },
  {
   "cell_type": "markdown",
   "metadata": {},
   "source": [
    "* Create a table that lists the average Reading Score for students of each grade level (9th, 10th, 11th, 12th) at each school.\n",
    "\n",
    "  * Create a pandas series for each grade. Hint: use a conditional statement.\n",
    "  \n",
    "  * Group each series by school\n",
    "  \n",
    "  * Combine the series into a dataframe\n",
    "  \n",
    "  * Optional: give the displayed data cleaner formatting"
   ]
  },
  {
   "cell_type": "code",
   "execution_count": 4,
   "metadata": {},
   "outputs": [
    {
     "ename": "SyntaxError",
     "evalue": "invalid syntax (Temp/ipykernel_6344/2692645059.py, line 1)",
     "output_type": "error",
     "traceback": [
      "\u001b[1;36m  File \u001b[1;32m\"C:\\Users\\brose\\AppData\\Local\\Temp/ipykernel_6344/2692645059.py\"\u001b[1;36m, line \u001b[1;32m1\u001b[0m\n\u001b[1;33m    grade_9_math_score = for row in pd.school_summary_df.intertuples():\u001b[0m\n\u001b[1;37m                         ^\u001b[0m\n\u001b[1;31mSyntaxError\u001b[0m\u001b[1;31m:\u001b[0m invalid syntax\n"
     ]
    }
   ],
   "source": [
    "grade_9_math_score = for row in pd.school_summary_df.intertuples():\n",
    "                        if row.school_summary_df[\"grade\"] = \"9th\":\n",
    "                            school_summary_df[\"math_score\"].mean()\n",
    "grade_9_math_score_groups = grade_9_math_score_groups.groupby([\"school_name\"]).mean()\n",
    "                \n",
    "grade_10_math_score = for row in pd.school_summary_df.intertuples():\n",
    "                        if row.school_summary_df[\"grade\"] = \"10th\":\n",
    "                            school_summary_df[\"math_score\"].mean()\n",
    "grade_10_math_score_groups = grade_10_math_score_groups.groupby([\"school_name\"]).mean()\n",
    "                \n",
    "grade_11_math_score = for row in pd.school_summary_df.intertuples():\n",
    "                        if row.school_summary_df[\"grade\"] = \"11th\":\n",
    "                            school_summary_df[\"math_score\"].mean()\n",
    "grade_11_math_score_groups = grade_11_math_score_groups.groupby([\"school_name\"]).mean()                \n",
    "                \n",
    "grade_12_math_score = for row in pd.school_summary_df.intertuples():\n",
    "                        if row.school_summary_df[\"grade\"] = \"12th\":\n",
    "                            school_summary_df[\"math_score\"].mean()\n",
    "grade_12_math_score_groups = grade_12_math_score_groups.groupby([\"school_name\"]).mean()\n",
    "\n",
    "math_score_df = pd.DataFrame({\n",
    "                    \"9th Grade\" : grade_9_math_score_groups\n",
    "                    \"10th Grade\" : grade_10_math_score_groups\n",
    "                    \"11th Grade\" : grade_11_math_score_groups\n",
    "                    \"12th Grade\" : grade_12_math_score_groups\n",
    "})"
   ]
  },
  {
   "cell_type": "markdown",
   "metadata": {},
   "source": [
    "## Reading Score by Grade "
   ]
  },
  {
   "cell_type": "markdown",
   "metadata": {},
   "source": [
    "* Perform the same operations as above for reading scores"
   ]
  },
  {
   "cell_type": "code",
   "execution_count": 3,
   "metadata": {},
   "outputs": [
    {
     "ename": "SyntaxError",
     "evalue": "invalid syntax (Temp/ipykernel_6344/984536955.py, line 1)",
     "output_type": "error",
     "traceback": [
      "\u001b[1;36m  File \u001b[1;32m\"C:\\Users\\brose\\AppData\\Local\\Temp/ipykernel_6344/984536955.py\"\u001b[1;36m, line \u001b[1;32m1\u001b[0m\n\u001b[1;33m    grade_9_reading_score = for row in pd.school_summary_df.intertuples():\u001b[0m\n\u001b[1;37m                            ^\u001b[0m\n\u001b[1;31mSyntaxError\u001b[0m\u001b[1;31m:\u001b[0m invalid syntax\n"
     ]
    }
   ],
   "source": [
    "grade_9_reading_score = for row in pd.school_summary_df.intertuples():\n",
    "                        if row.school_summary_df[\"grade\"] = \"9th\":\n",
    "                            school_summary_df[\"reading_score\"].mean()\n",
    "grade_9_reading_score_groups = grade_9_math_score_groups.groupby([\"school_name\"]).mean()\n",
    "                \n",
    "grade_10_reading_score = for row in pd.school_summary_df.intertuples():\n",
    "                        if row.school_summary_df[\"grade\"] = \"10th\":\n",
    "                            school_summary_df[\"reading_score\"].mean()\n",
    "grade_10_reading_score_groups = grade_10_reading_score_groups.groupby([\"school_name\"]).mean()\n",
    "                \n",
    "grade_11_reading_score = for row in pd.school_summary_df.intertuples():\n",
    "                        if row.school_summary_df[\"grade\"] = \"11th\":\n",
    "                            school_summary_df[\"reading_score\"].mean()\n",
    "grade_11_reading_score_groups = grade_11_reading_score_groups.groupby([\"school_name\"]).mean()                \n",
    "                \n",
    "grade_12_reading_score = for row in pd.school_summary_df.intertuples():\n",
    "                        if row.school_summary_df[\"grade\"] = \"12th\":\n",
    "                            school_summary_df[\"reading_score\"].mean()\n",
    "grade_12_reading_score_groups = grade_12_reading_score_groups.groupby([\"school_name\"]).mean()\n",
    "\n",
    "reading_score_df = pd.DataFrame({\n",
    "                    \"9th Grade\" : grade_9_math_score_groups\n",
    "                    \"10th Grade\" : grade_10_math_score_groups\n",
    "                    \"11th Grade\" : grade_11_math_score_groups\n",
    "                    \"12th Grade\" : grade_12_math_score_groups\n",
    "})"
   ]
  },
  {
   "cell_type": "markdown",
   "metadata": {},
   "source": [
    "## Scores by School Spending"
   ]
  },
  {
   "cell_type": "markdown",
   "metadata": {},
   "source": [
    "* Create a table that breaks down school performances based on average Spending Ranges (Per Student). Use 4 reasonable bins to group school spending. Include in the table each of the following:\n",
    "  * Average Math Score\n",
    "  * Average Reading Score\n",
    "  * % Passing Math\n",
    "  * % Passing Reading\n",
    "  * Overall Passing Rate (Average of the above two)"
   ]
  },
  {
   "cell_type": "code",
   "execution_count": null,
   "metadata": {},
   "outputs": [],
   "source": [
    "# Create bins in which to place values based upon school size\n",
    "bins = [570, 590, 610, 630, 700]\n",
    "\n",
    "# Create labels for these bins\n",
    "group_labels = [\"$570 to $590\", \"$590 to $610\", \"$610 to $630\", \"$630 to $700\"]\n",
    "\n",
    "# Slice the data and place it into bins\n",
    "pd.cut(school_summary_df[\"Per Student Budget\"], bins, labels=group_labels)\n",
    "\n",
    "school_spending_summary_df = pd.DataFrame({\n",
    "    \"Average Math Score\" : [school_summary_df[\"Average Math Score\"]],\n",
    "    \"Average Reading Score\" : school_summary_df[\"Average Reading Score\"],\n",
    "    \"% Passing Math\" : school_summary_df[\"% Passing Math\"],\n",
    "    \"% Passing Reading\" : school_summary_df[\"% Passing Reading\"],\n",
    "    \"Overall Passing Rate\" : school_summary_df[\"% Overall Passing\"],\n",
    "    })"
   ]
  },
  {
   "cell_type": "markdown",
   "metadata": {},
   "source": [
    "## Scores by School Size"
   ]
  },
  {
   "cell_type": "markdown",
   "metadata": {},
   "source": [
    "* Perform the same operations as above, based on school size."
   ]
  },
  {
   "cell_type": "code",
   "execution_count": null,
   "metadata": {
    "scrolled": true
   },
   "outputs": [],
   "source": [
    "# Create bins in which to place values based upon school size\n",
    "bins = [0, 1000, 2000, 3000, 10000]\n",
    "\n",
    "# Create labels for these bins\n",
    "group_labels = [\"0 to 1000\", \"1000 to 2000\", \"2000 to 3000\", \"3000 to 10000\"]\n",
    "\n",
    "# Slice the data and place it into bins\n",
    "pd.cut(school_summary_df[\"Total Students\"], bins, labels=group_labels)\n",
    "\n",
    "school_spending_summary_df = pd.DataFrame({\n",
    "    \"Average Math Score\" : [school_summary_df[\"Average Math Score\"]],\n",
    "    \"Average Reading Score\" : school_summary_df[\"Average Reading Score\"],\n",
    "    \"% Passing Math\" : school_summary_df[\"% Passing Math\"],\n",
    "    \"% Passing Reading\" : school_summary_df[\"% Passing Reading\"],\n",
    "    \"Overall Passing Rate\" : school_summary_df[\"% Overall Passing\"],\n",
    "    })"
   ]
  },
  {
   "cell_type": "markdown",
   "metadata": {},
   "source": [
    "## Scores by School Type"
   ]
  },
  {
   "cell_type": "markdown",
   "metadata": {},
   "source": [
    "* Perform the same operations as above, based on school type"
   ]
  },
  {
   "cell_type": "code",
   "execution_count": null,
   "metadata": {},
   "outputs": [],
   "source": [
    "# Create bins in which to place values based upon school type\n",
    "bins = [\"District\", \"Charter\"]\n",
    "\n",
    "# Create labels for these bins\n",
    "group_labels = [\"District Schools\", \"Charter Schools\"]\n",
    "\n",
    "# Slice the data and place it into bins\n",
    "pd.cut(school_summary_df[\"School Type\"], bins, labels=group_labels)\n",
    "\n",
    "school_spending_summary_df = pd.DataFrame({\n",
    "    \"Average Math Score\" : [school_summary_df[\"Average Math Score\"]],\n",
    "    \"Average Reading Score\" : school_summary_df[\"Average Reading Score\"],\n",
    "    \"% Passing Math\" : school_summary_df[\"% Passing Math\"],\n",
    "    \"% Passing Reading\" : school_summary_df[\"% Passing Reading\"],\n",
    "    \"Overall Passing Rate\" : school_summary_df[\"% Overall Passing\"],\n",
    "    })"
   ]
  },
  {
   "cell_type": "code",
   "execution_count": null,
   "metadata": {},
   "outputs": [],
   "source": []
  }
 ],
 "metadata": {
  "anaconda-cloud": {},
  "kernel_info": {
   "name": "python3"
  },
  "kernelspec": {
   "display_name": "Python [conda env:.conda-PythonData]",
   "language": "python",
   "name": "conda-env-.conda-PythonData-py"
  },
  "language_info": {
   "codemirror_mode": {
    "name": "ipython",
    "version": 3
   },
   "file_extension": ".py",
   "mimetype": "text/x-python",
   "name": "python",
   "nbconvert_exporter": "python",
   "pygments_lexer": "ipython3",
   "version": "3.9.7"
  },
  "latex_envs": {
   "LaTeX_envs_menu_present": true,
   "autoclose": false,
   "autocomplete": true,
   "bibliofile": "biblio.bib",
   "cite_by": "apalike",
   "current_citInitial": 1,
   "eqLabelWithNumbers": true,
   "eqNumInitial": 1,
   "hotkeys": {
    "equation": "Ctrl-E",
    "itemize": "Ctrl-I"
   },
   "labels_anchors": false,
   "latex_user_defs": false,
   "report_style_numbering": false,
   "user_envs_cfg": false
  },
  "nteract": {
   "version": "0.8.4"
  }
 },
 "nbformat": 4,
 "nbformat_minor": 1
}
